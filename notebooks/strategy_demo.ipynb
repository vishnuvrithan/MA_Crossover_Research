# Strategy Demo Notebook

# Step 1: Import Libraries and Modules
import yfinance as yf
import pandas as pd

from research.core import StrategyCore
from research.research_tools import monte_carlo_simulation, walk_forward_optimization, parameter_sensitivity
from research.ml import train_hybrid_model
from research.visualization import (
    plot_equity_curve,
    plot_parameter_sensitivity,
    plot_monte_carlo
)

# Step 2: Download Market Data (e.g., AAPL)
data = yf.download("AAPL", start="2018-01-01", end="2024-01-01")
data = data[['Close']].dropna()

# Step 3: Run Core Strategy
core = StrategyCore()
signals = core.calculate_signals(data, short_window=50, long_window=200)
backtest_results = core.backtest(signals)

# Step 4: Visualize Equity Curve
plot_equity_curve(backtest_results)

# Step 5: Monte Carlo Simulation
simulations = monte_carlo_simulation(backtest_results['Strategy_Return'])
plot_monte_carlo(simulations)

# Step 6: Walk Forward Optimization
wfo_results = walk_forward_optimization(
    data=data,
    window_size=252,  # ~1 trading year
    step_size=63,     # quarterly re-evaluation
    short_range=range(10, 50, 10),
    long_range=range(60, 250, 30)
)
wfo_results.head()

# Step 7: Parameter Sensitivity Analysis
heatmap_data = parameter_sensitivity(data, short_range=range(10, 50, 10), long_range=range(60, 250, 30))
plot_parameter_sensitivity(heatmap_data, short_range=range(10, 50, 10), long_range=range(60, 250, 30))

# Step 8: Train ML Hybrid Model
model, accuracy = train_hybrid_model(data)
print(f"ML Hybrid Model Accuracy: {accuracy:.2f}")
